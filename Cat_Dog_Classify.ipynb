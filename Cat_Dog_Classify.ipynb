{
  "nbformat": 4,
  "nbformat_minor": 0,
  "metadata": {
    "colab": {
      "name": "Cat Dog Classify.ipynb",
      "provenance": [],
      "collapsed_sections": [],
      "authorship_tag": "ABX9TyOFpo7KQmyb04Zc4fcYiPic",
      "include_colab_link": true
    },
    "kernelspec": {
      "name": "python3",
      "display_name": "Python 3"
    },
    "language_info": {
      "name": "python"
    },
    "accelerator": "GPU"
  },
  "cells": [
    {
      "cell_type": "markdown",
      "metadata": {
        "id": "view-in-github",
        "colab_type": "text"
      },
      "source": [
        "<a href=\"https://colab.research.google.com/github/ReJackTion/cat-dog-image-classification/blob/main/Cat_Dog_Classify.ipynb\" target=\"_parent\"><img src=\"https://colab.research.google.com/assets/colab-badge.svg\" alt=\"Open In Colab\"/></a>"
      ]
    },
    {
      "cell_type": "markdown",
      "metadata": {
        "id": "Go6TMgs4AtEn"
      },
      "source": [
        "# Get the datasets"
      ]
    },
    {
      "cell_type": "code",
      "metadata": {
        "id": "6waAPBw17Z3Y"
      },
      "source": [
        "import numpy as np\n",
        "import pandas as pd\n",
        "import matplotlib.pyplot as plt\n",
        "import seaborn as sns\n",
        "\n",
        "from google.colab import files\n",
        "from pathlib import Path\n",
        "import os.path\n",
        "\n",
        "from sklearn.model_selection import train_test_split\n",
        "\n",
        "import tensorflow as tf\n",
        "\n",
        "from sklearn.metrics import confusion_matrix, classification_report\n",
        "\n",
        "import warnings\n",
        "warnings.filterwarnings('ignore') #ignore warning to imporve readability"
      ],
      "execution_count": 1,
      "outputs": []
    },
    {
      "cell_type": "code",
      "metadata": {
        "id": "NSic6fhS9Yli"
      },
      "source": [
        "files.upload()"
      ],
      "execution_count": null,
      "outputs": []
    },
    {
      "cell_type": "code",
      "metadata": {
        "id": "ngv8ZikR8fDR"
      },
      "source": [
        "!mkdir ~/.kaggle #make a new folder\n",
        "!cp /content/kaggle.json ~/.kaggle/ #copy file to that folder\n",
        "!chmod 600 ~/.kaggle/kaggle.json #to allow read and write the file"
      ],
      "execution_count": null,
      "outputs": []
    },
    {
      "cell_type": "code",
      "metadata": {
        "id": "kl5n7dzi9nez"
      },
      "source": [
        "!kaggle datasets download -d erkamk/cat-and-dog-images-dataset"
      ],
      "execution_count": null,
      "outputs": []
    },
    {
      "cell_type": "code",
      "metadata": {
        "id": "1BbKanuhBAKI"
      },
      "source": [
        "!unzip cat-and-dog-images-dataset.zip"
      ],
      "execution_count": null,
      "outputs": []
    },
    {
      "cell_type": "markdown",
      "metadata": {
        "id": "fkrPb-6IBXUq"
      },
      "source": [
        "# Create File DataFrame"
      ]
    },
    {
      "cell_type": "code",
      "metadata": {
        "id": "_yhKNnAo-a20"
      },
      "source": [
        "image_dir = Path('/content/Dog and Cat .png')\n",
        "\n",
        "filepaths = list(image_dir.glob(r'**/*.png'))\n",
        "labels = list(map(lambda x: os.path.split(os.path.split(x)[0])[1], filepaths))\n",
        "\n",
        "filepaths = pd.Series(filepaths, name='Filepath').astype(str)\n",
        "labels = pd.Series(labels, name='Label')\n",
        "\n",
        "image_df = pd.concat([filepaths, labels], axis=1)"
      ],
      "execution_count": 3,
      "outputs": []
    },
    {
      "cell_type": "code",
      "metadata": {
        "colab": {
          "base_uri": "https://localhost:8080/",
          "height": 419
        },
        "id": "YYTTSK3MBjjN",
        "outputId": "c3401fdf-c154-4e6a-e036-ab7fc21fa73b"
      },
      "source": [
        "image_df"
      ],
      "execution_count": 4,
      "outputs": [
        {
          "output_type": "execute_result",
          "data": {
            "text/html": [
              "<div>\n",
              "<style scoped>\n",
              "    .dataframe tbody tr th:only-of-type {\n",
              "        vertical-align: middle;\n",
              "    }\n",
              "\n",
              "    .dataframe tbody tr th {\n",
              "        vertical-align: top;\n",
              "    }\n",
              "\n",
              "    .dataframe thead th {\n",
              "        text-align: right;\n",
              "    }\n",
              "</style>\n",
              "<table border=\"1\" class=\"dataframe\">\n",
              "  <thead>\n",
              "    <tr style=\"text-align: right;\">\n",
              "      <th></th>\n",
              "      <th>Filepath</th>\n",
              "      <th>Label</th>\n",
              "    </tr>\n",
              "  </thead>\n",
              "  <tbody>\n",
              "    <tr>\n",
              "      <th>0</th>\n",
              "      <td>/content/Dog and Cat .png/Cat/t21.png</td>\n",
              "      <td>Cat</td>\n",
              "    </tr>\n",
              "    <tr>\n",
              "      <th>1</th>\n",
              "      <td>/content/Dog and Cat .png/Cat/t11.png</td>\n",
              "      <td>Cat</td>\n",
              "    </tr>\n",
              "    <tr>\n",
              "      <th>2</th>\n",
              "      <td>/content/Dog and Cat .png/Cat/t2.png</td>\n",
              "      <td>Cat</td>\n",
              "    </tr>\n",
              "    <tr>\n",
              "      <th>3</th>\n",
              "      <td>/content/Dog and Cat .png/Cat/306.png</td>\n",
              "      <td>Cat</td>\n",
              "    </tr>\n",
              "    <tr>\n",
              "      <th>4</th>\n",
              "      <td>/content/Dog and Cat .png/Cat/343.png</td>\n",
              "      <td>Cat</td>\n",
              "    </tr>\n",
              "    <tr>\n",
              "      <th>...</th>\n",
              "      <td>...</td>\n",
              "      <td>...</td>\n",
              "    </tr>\n",
              "    <tr>\n",
              "      <th>994</th>\n",
              "      <td>/content/Dog and Cat .png/Dog/d240.png</td>\n",
              "      <td>Dog</td>\n",
              "    </tr>\n",
              "    <tr>\n",
              "      <th>995</th>\n",
              "      <td>/content/Dog and Cat .png/Dog/d114.png</td>\n",
              "      <td>Dog</td>\n",
              "    </tr>\n",
              "    <tr>\n",
              "      <th>996</th>\n",
              "      <td>/content/Dog and Cat .png/Dog/g62.png</td>\n",
              "      <td>Dog</td>\n",
              "    </tr>\n",
              "    <tr>\n",
              "      <th>997</th>\n",
              "      <td>/content/Dog and Cat .png/Dog/d13.png</td>\n",
              "      <td>Dog</td>\n",
              "    </tr>\n",
              "    <tr>\n",
              "      <th>998</th>\n",
              "      <td>/content/Dog and Cat .png/Dog/d30.png</td>\n",
              "      <td>Dog</td>\n",
              "    </tr>\n",
              "  </tbody>\n",
              "</table>\n",
              "<p>999 rows × 2 columns</p>\n",
              "</div>"
            ],
            "text/plain": [
              "                                   Filepath Label\n",
              "0     /content/Dog and Cat .png/Cat/t21.png   Cat\n",
              "1     /content/Dog and Cat .png/Cat/t11.png   Cat\n",
              "2      /content/Dog and Cat .png/Cat/t2.png   Cat\n",
              "3     /content/Dog and Cat .png/Cat/306.png   Cat\n",
              "4     /content/Dog and Cat .png/Cat/343.png   Cat\n",
              "..                                      ...   ...\n",
              "994  /content/Dog and Cat .png/Dog/d240.png   Dog\n",
              "995  /content/Dog and Cat .png/Dog/d114.png   Dog\n",
              "996   /content/Dog and Cat .png/Dog/g62.png   Dog\n",
              "997   /content/Dog and Cat .png/Dog/d13.png   Dog\n",
              "998   /content/Dog and Cat .png/Dog/d30.png   Dog\n",
              "\n",
              "[999 rows x 2 columns]"
            ]
          },
          "metadata": {},
          "execution_count": 4
        }
      ]
    },
    {
      "cell_type": "code",
      "metadata": {
        "id": "GcfUM_NPBqZn"
      },
      "source": [
        "train_df, test_df = train_test_split(image_df, train_size=0.7, shuffle=True, random_state=42)"
      ],
      "execution_count": 7,
      "outputs": []
    },
    {
      "cell_type": "markdown",
      "metadata": {
        "id": "DJlqAqc9CHTf"
      },
      "source": [
        "# Load Image Data"
      ]
    },
    {
      "cell_type": "code",
      "metadata": {
        "id": "ka3sVhy2CC6N"
      },
      "source": [
        "train_generator = tf.keras.preprocessing.image.ImageDataGenerator(\n",
        "    rescale=1./255,\n",
        "    horizontal_flip=True,\n",
        "    width_shift_range=0.2,\n",
        "    height_shift_range=0.2,\n",
        "    validation_split=0.2\n",
        ")\n",
        "\n",
        "test_generator = tf.keras.preprocessing.image.ImageDataGenerator(\n",
        "    rescale=1./255\n",
        ")"
      ],
      "execution_count": 8,
      "outputs": []
    },
    {
      "cell_type": "code",
      "metadata": {
        "colab": {
          "base_uri": "https://localhost:8080/"
        },
        "id": "XXqWDurGCNEq",
        "outputId": "a4aed5a1-69ea-4293-e7b1-f11869a0d993"
      },
      "source": [
        "train_images = train_generator.flow_from_dataframe(\n",
        "    dataframe=train_df,\n",
        "    x_col='Filepath',\n",
        "    y_col='Label',\n",
        "    target_size=(224, 224),\n",
        "    color_mode='rgb',\n",
        "    class_mode='binary',\n",
        "    batch_size=32,\n",
        "    shuffle=True,\n",
        "    seed=42,\n",
        "    subset='training'\n",
        ")\n",
        "\n",
        "val_images = train_generator.flow_from_dataframe(\n",
        "    dataframe=train_df,\n",
        "    x_col='Filepath',\n",
        "    y_col='Label',\n",
        "    target_size=(224, 224),\n",
        "    color_mode='rgb',\n",
        "    class_mode='binary',\n",
        "    batch_size=32,\n",
        "    shuffle=True,\n",
        "    seed=42,\n",
        "    subset='validation'\n",
        ")\n",
        "\n",
        "test_images = test_generator.flow_from_dataframe(\n",
        "    dataframe=test_df,\n",
        "    x_col='Filepath',\n",
        "    y_col='Label',\n",
        "    target_size=(224, 224),\n",
        "    color_mode='rgb',\n",
        "    class_mode='binary',\n",
        "    batch_size=32,\n",
        "    shuffle=False\n",
        ")"
      ],
      "execution_count": 9,
      "outputs": [
        {
          "output_type": "stream",
          "name": "stdout",
          "text": [
            "Found 560 validated image filenames belonging to 2 classes.\n",
            "Found 139 validated image filenames belonging to 2 classes.\n",
            "Found 300 validated image filenames belonging to 2 classes.\n"
          ]
        }
      ]
    },
    {
      "cell_type": "markdown",
      "metadata": {
        "id": "7regzk3BCZ1O"
      },
      "source": [
        "# Model Building"
      ]
    },
    {
      "cell_type": "code",
      "metadata": {
        "colab": {
          "base_uri": "https://localhost:8080/",
          "height": 1000
        },
        "id": "9qwiPprvCQNb",
        "outputId": "cd7bdf43-b7ce-4a0e-904d-24b06cad0b72"
      },
      "source": [
        "inputs = tf.keras.Input(shape=(224, 224, 3), name='input')\n",
        "\n",
        "conv1 = tf.keras.layers.Conv2D(filters=16, kernel_size=(3, 3), activation='relu', name='conv1')(inputs)\n",
        "maxpool1 = tf.keras.layers.MaxPool2D(name='maxpool1')(conv1)\n",
        "\n",
        "conv2 = tf.keras.layers.Conv2D(filters=32, kernel_size=(3, 3), activation='relu', name='conv2')(maxpool1)\n",
        "maxpool2 = tf.keras.layers.MaxPool2D(name='maxpool2')(conv2)\n",
        "\n",
        "conv3 = tf.keras.layers.Conv2D(filters=64, kernel_size=(3, 3), activation='relu', name='conv3')(maxpool2)\n",
        "maxpool3 = tf.keras.layers.MaxPool2D(name='maxpool3')(conv3)\n",
        "\n",
        "avgpool = tf.keras.layers.GlobalAveragePooling2D(name='avgpool')(maxpool3)\n",
        "\n",
        "fc1 = tf.keras.layers.Dense(128, activation='relu', name='fc1')(avgpool)\n",
        "fc2 = tf.keras.layers.Dense(128, activation='relu', name='fc2')(fc1)\n",
        "\n",
        "outputs = tf.keras.layers.Dense(1, activation='sigmoid', name='output')(fc2)\n",
        "\n",
        "model = tf.keras.Model(inputs=inputs, outputs=outputs)\n",
        "\n",
        "\n",
        "print(model.summary())\n",
        "tf.keras.utils.plot_model(model)"
      ],
      "execution_count": 10,
      "outputs": [
        {
          "output_type": "stream",
          "name": "stdout",
          "text": [
            "Model: \"model\"\n",
            "_________________________________________________________________\n",
            "Layer (type)                 Output Shape              Param #   \n",
            "=================================================================\n",
            "input (InputLayer)           [(None, 224, 224, 3)]     0         \n",
            "_________________________________________________________________\n",
            "conv1 (Conv2D)               (None, 222, 222, 16)      448       \n",
            "_________________________________________________________________\n",
            "maxpool1 (MaxPooling2D)      (None, 111, 111, 16)      0         \n",
            "_________________________________________________________________\n",
            "conv2 (Conv2D)               (None, 109, 109, 32)      4640      \n",
            "_________________________________________________________________\n",
            "maxpool2 (MaxPooling2D)      (None, 54, 54, 32)        0         \n",
            "_________________________________________________________________\n",
            "conv3 (Conv2D)               (None, 52, 52, 64)        18496     \n",
            "_________________________________________________________________\n",
            "maxpool3 (MaxPooling2D)      (None, 26, 26, 64)        0         \n",
            "_________________________________________________________________\n",
            "avgpool (GlobalAveragePoolin (None, 64)                0         \n",
            "_________________________________________________________________\n",
            "fc1 (Dense)                  (None, 128)               8320      \n",
            "_________________________________________________________________\n",
            "fc2 (Dense)                  (None, 128)               16512     \n",
            "_________________________________________________________________\n",
            "output (Dense)               (None, 1)                 129       \n",
            "=================================================================\n",
            "Total params: 48,545\n",
            "Trainable params: 48,545\n",
            "Non-trainable params: 0\n",
            "_________________________________________________________________\n",
            "None\n"
          ]
        },
        {
          "output_type": "execute_result",
          "data": {
            "image/png": "[encoded data removed]",
            "text/plain": [
              "<IPython.core.display.Image object>"
            ]
          },
          "metadata": {},
          "execution_count": 10
        }
      ]
    },
    {
      "cell_type": "markdown",
      "metadata": {
        "id": "v_HibpCEGv_N"
      },
      "source": [
        "# Model Training"
      ]
    },
    {
      "cell_type": "code",
      "metadata": {
        "colab": {
          "base_uri": "https://localhost:8080/"
        },
        "id": "eiE8cQuyEFlA",
        "outputId": "bee0e314-aeea-47b3-e207-b1b320dff6a1"
      },
      "source": [
        "model.compile(\n",
        "    optimizer='adam',\n",
        "    loss='binary_crossentropy',\n",
        "    metrics=['accuracy']\n",
        ")\n",
        "\n",
        "history = model.fit(\n",
        "    train_images,\n",
        "    validation_data=val_images,\n",
        "    epochs=100,\n",
        "    callbacks=[\n",
        "        tf.keras.callbacks.EarlyStopping(\n",
        "            monitor='val_loss',\n",
        "            patience=5,\n",
        "            restore_best_weights=True\n",
        "        ),\n",
        "        tf.keras.callbacks.ReduceLROnPlateau(\n",
        "            monitor='val_loss',\n",
        "            patience=3\n",
        "        )\n",
        "    ]\n",
        ")"
      ],
      "execution_count": 20,
      "outputs": [
        {
          "output_type": "stream",
          "name": "stdout",
          "text": [
            "Epoch 1/100\n",
            "18/18 [==============================] - 13s 683ms/step - loss: 0.6042 - accuracy: 0.6821 - val_loss: 0.6217 - val_accuracy: 0.6547\n",
            "Epoch 2/100\n",
            "18/18 [==============================] - 11s 638ms/step - loss: 0.6089 - accuracy: 0.6571 - val_loss: 0.5972 - val_accuracy: 0.6835\n",
            "Epoch 3/100\n",
            "18/18 [==============================] - 11s 634ms/step - loss: 0.5941 - accuracy: 0.7000 - val_loss: 0.6370 - val_accuracy: 0.6403\n",
            "Epoch 4/100\n",
            "18/18 [==============================] - 11s 639ms/step - loss: 0.5975 - accuracy: 0.6893 - val_loss: 0.6089 - val_accuracy: 0.6475\n",
            "Epoch 5/100\n",
            "18/18 [==============================] - 11s 644ms/step - loss: 0.5928 - accuracy: 0.6893 - val_loss: 0.6096 - val_accuracy: 0.6619\n",
            "Epoch 6/100\n",
            "18/18 [==============================] - 11s 642ms/step - loss: 0.5747 - accuracy: 0.7107 - val_loss: 0.6069 - val_accuracy: 0.6691\n",
            "Epoch 7/100\n",
            "18/18 [==============================] - 11s 640ms/step - loss: 0.5811 - accuracy: 0.7125 - val_loss: 0.6192 - val_accuracy: 0.6187\n"
          ]
        }
      ]
    },
    {
      "cell_type": "markdown",
      "metadata": {
        "id": "msdOoybBHJWc"
      },
      "source": [
        "# Model Evaluation"
      ]
    },
    {
      "cell_type": "code",
      "metadata": {
        "colab": {
          "base_uri": "https://localhost:8080/"
        },
        "id": "brIsSQxFGJXX",
        "outputId": "31d8bdc2-0bcd-4d4d-f461-7b7c805f9934"
      },
      "source": [
        "results = model.evaluate(test_images, verbose=0)\n",
        "\n",
        "print(\"    Test Loss: {:.5f}\".format(results[0]))\n",
        "print(\"Test Accuracy: {:.2f}%\".format(results[1] * 100))"
      ],
      "execution_count": 21,
      "outputs": [
        {
          "output_type": "stream",
          "name": "stdout",
          "text": [
            "    Test Loss: 0.67737\n",
            "Test Accuracy: 61.00%\n"
          ]
        }
      ]
    },
    {
      "cell_type": "code",
      "metadata": {
        "colab": {
          "base_uri": "https://localhost:8080/",
          "height": 591
        },
        "id": "4fJCqrStHKqv",
        "outputId": "3eb0ade1-9f9f-4bd9-ecfc-3ec5bdee7385"
      },
      "source": [
        "predictions = (model.predict(test_images) >= 0.5).astype(np.int)\n",
        "\n",
        "cm = confusion_matrix(test_images.labels, predictions, labels=[0, 1])\n",
        "clr = classification_report(test_images.labels, predictions, labels=[0, 1], target_names=[\"CAT\", \"DOG\"])\n",
        "\n",
        "plt.figure(figsize=(6, 6))\n",
        "sns.heatmap(cm, annot=True, fmt='g', vmin=0, cmap='Blues', cbar=False)\n",
        "plt.xticks(ticks=[0.5, 1.5], labels=[\"CAT\", \"DOG\"])\n",
        "plt.yticks(ticks=[0.5, 1.5], labels=[\"CAT\", \"DOG\"])\n",
        "plt.xlabel(\"Predicted\")\n",
        "plt.ylabel(\"Actual\")\n",
        "plt.title(\"Confusion Matrix\")\n",
        "plt.show()\n",
        "\n",
        "print(\"Classification Report:\\n----------------------\\n\", clr)"
      ],
      "execution_count": 22,
      "outputs": [
        {
          "output_type": "display_data",
          "data": {
            "image/png": "[encoded data removed]",
            "text/plain": [
              "<Figure size 432x432 with 1 Axes>"
            ]
          },
          "metadata": {
            "needs_background": "light"
          }
        },
        {
          "output_type": "stream",
          "name": "stdout",
          "text": [
            "Classification Report:\n",
            "----------------------\n",
            "               precision    recall  f1-score   support\n",
            "\n",
            "         CAT       0.66      0.50      0.57       155\n",
            "         DOG       0.58      0.72      0.64       145\n",
            "\n",
            "    accuracy                           0.61       300\n",
            "   macro avg       0.62      0.61      0.61       300\n",
            "weighted avg       0.62      0.61      0.61       300\n",
            "\n"
          ]
        }
      ]
    },
    {
      "cell_type": "markdown",
      "metadata": {
        "id": "IXWEzrYjRN8w"
      },
      "source": [
        "# Save and Load Model"
      ]
    },
    {
      "cell_type": "code",
      "metadata": {
        "id": "38B3M_JaHTKi"
      },
      "source": [
        "model.save_weights('saved_model/')"
      ],
      "execution_count": 23,
      "outputs": []
    },
    {
      "cell_type": "code",
      "metadata": {
        "colab": {
          "base_uri": "https://localhost:8080/"
        },
        "id": "KkNNogMWQ61a",
        "outputId": "02565ba3-2e0a-4533-fd4b-76f086cbc9b7"
      },
      "source": [
        "model.load_weights('saved_model/')"
      ],
      "execution_count": 24,
      "outputs": [
        {
          "output_type": "execute_result",
          "data": {
            "text/plain": [
              "<tensorflow.python.training.tracking.util.CheckpointLoadStatus at 0x7fd81ed642d0>"
            ]
          },
          "metadata": {},
          "execution_count": 24
        }
      ]
    },
    {
      "cell_type": "code",
      "metadata": {
        "id": "ZXdU0xz5R4hu"
      },
      "source": [
        ""
      ],
      "execution_count": null,
      "outputs": []
    }
  ]
}